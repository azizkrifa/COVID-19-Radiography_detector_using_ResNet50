{
 "cells": [
  {
   "cell_type": "markdown",
   "id": "import-header",
   "metadata": {},
   "source": [
    "# Model Evaluation Pipeline\n",
    "---\n",
    "## 1. Import Dependencies"
   ]
  },
  {
   "cell_type": "code",
   "execution_count": null,
   "id": "52e0f54a",
   "metadata": {},
   "outputs": [],
   "source": [
    "from tensorflow.keras.models import load_model\n",
    "from utils import load_test_data , visualize_samples , classification_report_and_confusion_matrix , visualize_test_predictons\n",
    "import importlib\n",
    "import Shared_vars    \n",
    "importlib.reload(Shared_vars)  \n",
    "from Shared_vars import DATA_DIR"
   ]
  },
  {
   "cell_type": "markdown",
   "id": "divider-1",
   "metadata": {},
   "source": [
    "------\n"
   ]
  },
  {
   "cell_type": "markdown",
   "id": "load-header",
   "metadata": {},
   "source": [
    "## 2. Load the Trained Model and Test Data"
   ]
  },
  {
   "cell_type": "code",
   "execution_count": null,
   "id": "007bfc50",
   "metadata": {},
   "outputs": [],
   "source": [
    "model=load_model('/output/best_model.h5')\n",
    "test_data = load_test_data(DATA_DIR)"
   ]
  },
  {
   "cell_type": "markdown",
   "id": "divider-2",
   "metadata": {},
   "source": [
    "---"
   ]
  },
  {
   "cell_type": "markdown",
   "id": "visualize-header",
   "metadata": {},
   "source": [
    "## 3. Visualize Test Samples"
   ]
  },
  {
   "cell_type": "code",
   "execution_count": null,
   "id": "b37df8d6",
   "metadata": {},
   "outputs": [],
   "source": [
    "visualize_samples(test_data)"
   ]
  },
  {
   "cell_type": "markdown",
   "id": "divider-3",
   "metadata": {},
   "source": [
    "---"
   ]
  },
  {
   "cell_type": "markdown",
   "id": "evaluate-header",
   "metadata": {},
   "source": [
    "## 4. Evaluate Model on Test Data"
   ]
  },
  {
   "cell_type": "code",
   "execution_count": null,
   "id": "0f5802dc",
   "metadata": {},
   "outputs": [],
   "source": [
    "loss, acc = model.evaluate(test_data)\n",
    "\n",
    "print(f\"\"\"✅ Test Accuracy: {acc*100:.2f}%\n",
    "✅ Test loss :{loss:.3f}\"\"\")"
   ]
  },
  {
   "cell_type": "markdown",
   "id": "divider-4",
   "metadata": {},
   "source": [
    "---"
   ]
  },
  {
   "cell_type": "markdown",
   "id": "metrics-header",
   "metadata": {},
   "source": [
    "## 5. Classification Report and Confusion Matrix"
   ]
  },
  {
   "cell_type": "code",
   "execution_count": null,
   "id": "92421d1c",
   "metadata": {},
   "outputs": [],
   "source": [
    "classification_report_and_confusion_matrix(model , test_data)"
   ]
  },
  {
   "cell_type": "markdown",
   "id": "divider-5",
   "metadata": {},
   "source": [
    "---"
   ]
  },
  {
   "cell_type": "markdown",
   "id": "predictions-header",
   "metadata": {},
   "source": [
    "## 6. Visualize Test Predictions"
   ]
  },
  {
   "cell_type": "code",
   "execution_count": null,
   "id": "57f82993",
   "metadata": {},
   "outputs": [],
   "source": [
    "visualize_test_predictons(model)"
   ]
  },
  {
   "cell_type": "markdown",
   "id": "final-divider",
   "metadata": {},
   "source": [
    "---"
   ]
  }
 ],
 "metadata": {
  "kernelspec": {
   "display_name": "Python 3 (ipykernel)",
   "language": "python",
   "name": "python3"
  },
  "language_info": {
   "codemirror_mode": {
    "name": "ipython",
    "version": 3
   },
   "file_extension": ".py",
   "mimetype": "text/x-python",
   "name": "python",
   "nbconvert_exporter": "python",
   "pygments_lexer": "ipython3",
   "version": "3.9.18"
  }
 },
 "nbformat": 4,
 "nbformat_minor": 5
}
