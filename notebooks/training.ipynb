{
 "cells": [
  {
   "cell_type": "markdown",
   "id": "header-1",
   "metadata": {},
   "source": [
    "# COVID-19 Classification Model\n",
    "---"
   ]
  },
  {
   "cell_type": "markdown",
   "id": "imports-section",
   "metadata": {},
   "source": [
    "## 📦 Imports and Setup\n",
    "\n",
    "- **tensorflow.keras.applications.ResNet50**: Pre-trained ResNet50 model for transfer learning.  \n",
    "- **tensorflow.keras.layers**  \n",
    "  - `Dense`: Fully connected layer for classification.  \n",
    "  - `GlobalAveragePooling2D`: Converts feature maps into a single vector per image.  \n",
    "  - `BatchNormalization`: Normalizes activations to improve training stability.  \n",
    "- **tensorflow.keras.models.Model**: To define and build the custom model architecture.  \n",
    "- **tensorflow.keras.callbacks** \n",
    "  - `EarlyStopping`: Stops training when performance no longer improves.  \n",
    "  - `ModelCheckpoint`: Saves the best model during training.  \n",
    "  - `CSVLogger`: Logs training progress into a CSV file.  \n",
    "- **tensorflow.keras.optimizers.Adam**: Optimizer used for training the model.  \n",
    "- **utils**  \n",
    "  - `load_data`: Loads datasets (train, validation).  \n",
    "  - `visualize_samples`: Displays sample training images.  \n",
    "  - `visualize_accuracy_loss`: Visualizes training accuracy and loss curves.  \n"
   ]
  },
  {
   "cell_type": "code",
   "execution_count": null,
   "id": "90d6e813",
   "metadata": {},
   "outputs": [],
   "source": [
    "from tensorflow.keras.applications import ResNet50\n",
    "from tensorflow.keras.layers import Dense, GlobalAveragePooling2D , BatchNormalization\n",
    "from tensorflow.keras.models import Model\n",
    "from tensorflow.keras.callbacks import EarlyStopping, ModelCheckpoint ,CSVLogger\n",
    "from tensorflow.keras.optimizers import Adam\n",
    "from utils import load_data , visualize_samples ,visualize_accuracy_loss\n",
    "import importlib\n",
    "import Shared_vars    \n",
    "importlib.reload(Shared_vars)  \n",
    "from Shared_vars import DATA_DIR"
   ]
  },
  {
   "cell_type": "markdown",
   "id": "data-loading",
   "metadata": {},
   "source": [
    "\n",
    "-----\n",
    "\n",
    "## 📂 Load and Explore Data\n",
    "\n",
    "- `load_data`: Loads the training and validation datasets from the prepared directory.  \n",
    "- `visualize_samples`: Displays a few sample images from the training set to confirm that data loading works correctly and to visually inspect the dataset.  \n",
    "\n",
    "This step helps ensure that the data is correctly structured before model training begins.  \n"
   ]
  },
  {
   "cell_type": "code",
   "execution_count": null,
   "id": "09e55ea8",
   "metadata": {},
   "outputs": [],
   "source": [
    "train_data , val_data =load_data(DATA_DIR, batch_size=32) \n",
    "\n",
    "visualize_samples(train_data)"
   ]
  },
  {
   "cell_type": "markdown",
   "id": "model-architecture",
   "metadata": {},
   "source": [
    "\n",
    "-----\n",
    "\n",
    "## 🧠 Build Model Architecture\n",
    "\n",
    "- **Base Model**:  \n",
    "  - `ResNet50` pre-trained on ImageNet.  \n",
    "  - `include_top=False`: Excludes the fully connected head, keeping only convolutional layers.  \n",
    "  - `input_shape=(224, 224, 3)`: Input size for chest X-ray images.  \n",
    "  - `base_model.trainable = True`: Unfreezes the base model for fine-tuning.  \n",
    "\n",
    "- **Custom Layers**:  \n",
    "  - `GlobalAveragePooling2D`: Reduces feature maps into a single vector per image.  \n",
    "  - **First Dense Block**:  \n",
    "    - Dense(512, ReLU) → BatchNormalization  \n",
    "  - **Second Dense Block**:  \n",
    "    - Dense(256, ReLU) → BatchNormalization  \n",
    "\n",
    "- **Output Layer**:  \n",
    "  - Dense(4, Softmax): Outputs probabilities for 4 classes (COVID, Normal, Lung Opacity, Viral Pneumonia).  \n",
    "\n",
    "This architecture combines the power of transfer learning from ResNet50 with additional dense layers for classification.  \n"
   ]
  },
  {
   "cell_type": "code",
   "execution_count": null,
   "id": "3a3ab16d",
   "metadata": {},
   "outputs": [],
   "source": [
    "base_model = ResNet50(\n",
    "    weights='imagenet',\n",
    "    include_top=False,\n",
    "    input_shape=(224, 224, 3)\n",
    ")\n",
    "base_model.trainable = True  # Unfreeze the \n",
    "\n",
    "x = base_model.output\n",
    "x = GlobalAveragePooling2D()(x)\n",
    "\n",
    "# First dense block\n",
    "x = Dense(512, activation='relu')(x)\n",
    "x = BatchNormalization()(x)\n",
    "\n",
    "# Second dense block\n",
    "x = Dense(256, activation='relu')(x)\n",
    "x = BatchNormalization()(x)\n",
    "\n",
    "# Output layer\n",
    "predictions = Dense(4, activation='softmax')(x)\n",
    "\n",
    "model = Model(inputs=base_model.input, outputs=predictions)"
   ]
  },
  {
   "cell_type": "markdown",
   "id": "model-compilation",
   "metadata": {},
   "source": [
    "\n",
    "-----\n",
    "\n",
    "## ⚙️ Compile the Model\n",
    "\n",
    "- **Optimizer**:  \n",
    "  - `Adam` with a learning rate of `1e-5` for stable fine-tuning.  \n",
    "\n",
    "- **Loss Function**:  \n",
    "  - `categorical_crossentropy` since the task is multi-class classification.  \n",
    "\n",
    "- **Metrics**:  \n",
    "  - `accuracy` to monitor the model’s performance during training and validation.  \n",
    "\n",
    "The model is now ready for training.  \n"
   ]
  },
  {
   "cell_type": "code",
   "execution_count": null,
   "id": "8e6b50a4",
   "metadata": {},
   "outputs": [],
   "source": [
    "model.compile(\n",
    "    optimizer=Adam(learning_rate=1e-5),\n",
    "    loss='categorical_crossentropy',\n",
    "    metrics=['accuracy']\n",
    ")"
   ]
  },
  {
   "cell_type": "markdown",
   "id": "divider-6",
   "metadata": {},
   "source": [
    "---"
   ]
  },
  {
   "cell_type": "markdown",
   "id": "model-training",
   "metadata": {},
   "source": [
    "## 🏋️‍♂️ Train the Model\n",
    "\n",
    "- **Callbacks**:  \n",
    "  - `EarlyStopping`: Monitors `val_loss`, stops training if no improvement after 5 epochs, and restores best weights.  \n",
    "  - `ModelCheckpoint`: Saves the best model as `best_model.h5` based on highest validation accuracy.  \n",
    "  - `CSVLogger`: Logs training progress into `training_log.csv`.  \n",
    "\n",
    "- **Training Configuration**:  \n",
    "  - Dataset: `train_data` with validation on `val_data`.  \n",
    "  - Epochs: 50  \n",
    "  - Batch size: 32.\n",
    "\n",
    "- **Visualization**:  \n",
    "  - `visualize_accuracy_loss`: Plots training and validation accuracy and loss curves over epochs.  \n",
    "\n",
    "This step trains the model while preventing overfitting and ensuring the best model is saved automatically.  \n"
   ]
  },
  {
   "cell_type": "code",
   "execution_count": null,
   "id": "56bbdc2f",
   "metadata": {},
   "outputs": [],
   "source": [
    "early_stop = EarlyStopping(monitor='val_loss', patience=5, restore_best_weights=True)\n",
    "\n",
    "checkpoint = ModelCheckpoint(\"/output/best_model.h5\", save_best_only=True, monitor='val_accuracy')\n",
    "\n",
    "csv_logger = CSVLogger('training_log.csv', append=False)\n",
    "\n",
    "history = model.fit(\n",
    "    train_data,\n",
    "    validation_data=val_data,\n",
    "    epochs=50,\n",
    "    callbacks=[early_stop, checkpoint , csv_logger]\n",
    ")\n",
    "\n",
    "visualize_accuracy_loss()"
   ]
  }
 ],
 "metadata": {
  "kernelspec": {
   "display_name": "Python 3",
   "language": "python",
   "name": "python3"
  },
  "language_info": {
   "codemirror_mode": {
    "name": "ipython",
    "version": 3
   },
   "file_extension": ".py",
   "mimetype": "text/x-python",
   "name": "python",
   "nbconvert_exporter": "python",
   "pygments_lexer": "ipython3",
   "version": "3.11.0"
  }
 },
 "nbformat": 4,
 "nbformat_minor": 5
}
