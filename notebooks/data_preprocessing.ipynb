{
 "cells": [
  {
   "cell_type": "markdown",
   "id": "header-1",
   "metadata": {},
   "source": [
    "# COVID-19 Radiography Dataset Processing\n",
    "---"
   ]
  },
  {
   "cell_type": "markdown",
   "id": "dataset-download",
   "metadata": {},
   "source": [
    "## 📦 Imports and Setup\n",
    "\n",
    "- `kagglehub`: For downloading datasets from Kaggle.\n",
    "- `shutil`: Utilities for file operations like copying and removing files.\n",
    "- `pathlib.Path`: For handling filesystem paths in a platform-independent way.\n",
    "- `splitfolders`: To split datasets into train, validation, and test folders.\n",
    "- `os`: Operating system utilities for directory and file management.\n",
    "- `tensorflow.keras.preprocessing.image`: For image loading and augmentation.\n",
    "- `utils.display_data_distribution`: Custom utility function to visualize data distribution.\n"
   ]
  },
  {
   "cell_type": "code",
   "execution_count": null,
   "id": "a41700ca",
   "metadata": {},
   "outputs": [],
   "source": [
    "import kagglehub\n",
    "import shutil\n",
    "from pathlib import Path\n",
    "import splitfolders\n",
    "import os\n",
    "import shutil\n",
    "from tensorflow.keras.preprocessing.image import ImageDataGenerator, load_img, img_to_array\n",
    "from utils import display_data_distribution"
   ]
  },
  {
   "cell_type": "markdown",
   "id": "eaa0bcf2",
   "metadata": {},
   "source": [
    "\n",
    "------\n"
   ]
  },
  {
   "cell_type": "code",
   "execution_count": null,
   "id": "776989cd",
   "metadata": {},
   "outputs": [],
   "source": [
    "# Download dataset\n",
    "src_path = kagglehub.dataset_download(\"tawsifurrahman/covid19-radiography-database\")\n",
    "print(\"Original path:\", src_path)"
   ]
  },
  {
   "cell_type": "markdown",
   "id": "data-directory-setup",
   "metadata": {},
   "source": [
    "## 2. Configure Data Directory"
   ]
  },
  {
   "cell_type": "code",
   "execution_count": 17,
   "id": "c51472f6",
   "metadata": {},
   "outputs": [],
   "source": [
    "DATA_DIR = \"\" # Change this to your local path or Google Drive mount path if running in Colab !!!\n",
    "              # if you keep DATA_DIR = \"\" , the data will be loaded in your current repo !!\n",
    "\n",
    "with open('Shared_vars.py', 'w') as f:\n",
    "    f.write(f\"DATA_DIR=\\\"{DATA_DIR}\\\"\\n\")"
   ]
  },
  {
   "cell_type": "markdown",
   "id": "divider-2",
   "metadata": {},
   "source": [
    "---"
   ]
  },
  {
   "cell_type": "markdown",
   "id": "data-preprocessing",
   "metadata": {},
   "source": [
    "## 3. Organize Dataset by Classes"
   ]
  },
  {
   "cell_type": "code",
   "execution_count": null,
   "id": "2dc93915",
   "metadata": {},
   "outputs": [],
   "source": [
    "# Paths\n",
    "source_root = Path(src_path+'/COVID-19_Radiography_Dataset')\n",
    "target_root = Path(DATA_DIR + \"/data_for_split\")\n",
    "\n",
    "# Class folders\n",
    "classes = [\"COVID\", \"Normal\", \"Lung_Opacity\", \"Viral Pneumonia\"]\n",
    "\n",
    "# Create image-only dataset\n",
    "for cls in classes:\n",
    "    source = source_root / cls / \"images\"\n",
    "    target = target_root / cls\n",
    "    target.mkdir(parents=True, exist_ok=True)\n",
    "\n",
    "    for file in source.glob(\"*.*\"):\n",
    "        shutil.copy(file, target)\n",
    "\n",
    "print(\"✅ Images copied successfully to\", target_root)"
   ]
  },
  {
   "cell_type": "markdown",
   "id": "divider-3",
   "metadata": {},
   "source": [
    "---"
   ]
  },
  {
   "cell_type": "markdown",
   "id": "data-splitting",
   "metadata": {},
   "source": [
    "## 4. Split Data into Train/Val/Test Sets"
   ]
  },
  {
   "cell_type": "code",
   "execution_count": null,
   "id": "4314bc81",
   "metadata": {},
   "outputs": [],
   "source": [
    "base_dir = f\"{DATA_DIR}/dataset\"\n",
    "\n",
    "splitfolders.ratio(\n",
    "    f\"{DATA_DIR}/data_for_split\",\n",
    "    output=base_dir,\n",
    "    seed=42,\n",
    "    ratio=(.7, .2, .1),  # train, val, test\n",
    "    group_prefix=None  # Only needed for paired data like images + masks\n",
    ")"
   ]
  },
  {
   "cell_type": "markdown",
   "id": "divider-4",
   "metadata": {},
   "source": [
    "---"
   ]
  },
  {
   "cell_type": "markdown",
   "id": "class-distribution",
   "metadata": {},
   "source": [
    "## 5. Visualize Training Set Class Distribution"
   ]
  },
  {
   "cell_type": "code",
   "execution_count": null,
   "id": "dd108b8c",
   "metadata": {},
   "outputs": [],
   "source": [
    "train_path = base_dir + \"/train\"\n",
    "display_data_distribution(train_path)  # Display the distribution of images across classes in the training set"
   ]
  },
  {
   "cell_type": "markdown",
   "id": "divider-5",
   "metadata": {},
   "source": [
    "---"
   ]
  },
  {
   "cell_type": "markdown",
   "id": "data-imbalance-note",
   "metadata": {},
   "source": [
    "**Observation:** There is significant class imbalance in the training set. We will address this with data augmentation in the next step."
   ]
  },
  {
   "cell_type": "markdown",
   "id": "divider-6",
   "metadata": {},
   "source": [
    "---"
   ]
  },
  {
   "cell_type": "markdown",
   "id": "data-augmentation",
   "metadata": {},
   "source": [
    "## 6. Apply Data Augmentation to Minority Classes"
   ]
  },
  {
   "cell_type": "code",
   "execution_count": null,
   "id": "e53d4cad",
   "metadata": {},
   "outputs": [],
   "source": [
    "# Paths\n",
    "aug_dir = base_dir + \"/train_augmented\"\n",
    "classes_to_augment = ['COVID', 'Lung_Opacity', 'Viral Pneumonia']\n",
    "\n",
    "# Create augmentation generator\n",
    "augmenter = ImageDataGenerator(\n",
    "    rotation_range=20,\n",
    "    zoom_range=0.15,\n",
    "    width_shift_range=0.2,\n",
    "    height_shift_range=0.2,\n",
    "    shear_range=0.15,\n",
    "    horizontal_flip=True,\n",
    "    fill_mode=\"nearest\"\n",
    ")\n",
    "\n",
    "# Copy all original images to the new folder\n",
    "for cls in os.listdir(train_dir):\n",
    "    src = os.path.join(train_dir, cls)\n",
    "    dst = os.path.join(aug_dir, cls)\n",
    "    os.makedirs(dst, exist_ok=True)\n",
    "\n",
    "    for img_name in os.listdir(src):\n",
    "        shutil.copy(os.path.join(src, img_name), os.path.join(dst, img_name))\n",
    "\n",
    "        # Augment only if class is in the selected list\n",
    "        if cls in classes_to_augment:\n",
    "            img = load_img(os.path.join(src, img_name))\n",
    "            x = img_to_array(img)\n",
    "            x = x.reshape((1,) + x.shape)\n",
    "\n",
    "            # Create 3 augmented versions\n",
    "            for i, batch in enumerate(augmenter.flow(x, batch_size=1,\n",
    "                                                     save_to_dir=dst,\n",
    "                                                     save_prefix='aug',\n",
    "                                                     save_format='jpeg')):\n",
    "                if i >= 3:\n",
    "                    break\n",
    "\n",
    "display_data_distribution(aug_dir) # Display augmented data distribution"
   ]
  }
 ],
 "metadata": {
  "kernelspec": {
   "display_name": "Python 3",
   "language": "python",
   "name": "python3"
  },
  "language_info": {
   "codemirror_mode": {
    "name": "ipython",
    "version": 3
   },
   "file_extension": ".py",
   "mimetype": "text/x-python",
   "name": "python",
   "nbconvert_exporter": "python",
   "pygments_lexer": "ipython3",
   "version": "3.11.0"
  }
 },
 "nbformat": 4,
 "nbformat_minor": 5
}
